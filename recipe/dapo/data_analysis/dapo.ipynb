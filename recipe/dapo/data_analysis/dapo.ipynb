{
 "cells": [
  {
   "cell_type": "code",
   "execution_count": 2,
   "id": "5132704c",
   "metadata": {},
   "outputs": [],
   "source": [
    "import json\n",
    "import math\n",
    "import os\n",
    "import random\n",
    "import re\n",
    "import shutil\n",
    "import sys\n",
    "import time\n",
    "from collections import defaultdict\n",
    "from pathlib import Path\n",
    "from datetime import datetime\n",
    "from torchdata.stateful_dataloader import StatefulDataLoader\n",
    "from loguru import logger\n",
    "import torch\n",
    "import torch.nn.functional as F\n",
    "from torch import nn\n",
    "from torch.utils.data import Dataset, DataLoader\n",
    "\n",
    "RAY_DATA_HOME='/data/corpus/verl'\n",
    "TRAIN_FILE=f\"{RAY_DATA_HOME}/data/dapo-math-17k.parquet\"\n",
    "TEST_FILE=f\"{RAY_DATA_HOME}/data/aime-2024.parquet\""
   ]
  },
  {
   "cell_type": "code",
   "execution_count": 9,
   "id": "c184fec8",
   "metadata": {},
   "outputs": [
    {
     "name": "stdout",
     "output_type": "stream",
     "text": [
      "df_parquet.shape=(960, 5) df_parquet.columns=Index(['data_source', 'prompt', 'ability', 'reward_model', 'extra_info'], dtype='object')\n",
      "col = 'data_source', row[col] = 'math_dapo'\n",
      "col = 'prompt', row[col] = array([{'content': 'Solve the following math problem step by step. The last line of your response should be of the form Answer: $Answer (without quotes) where $Answer is the answer to the problem.\\n\\nFind the largest possible real part of \\\\[(75+117i)z+\\\\frac{96+144i}{z}\\\\]where $z$ is a complex number with $|z|=4$.\\n\\nRemember to put your answer on its own line after \"Answer:\".', 'role': 'user'}],\n",
      "      dtype=object)\n",
      "col = 'ability', row[col] = 'MATH'\n",
      "col = 'reward_model', row[col] = {'ground_truth': '540', 'style': 'rule-lighteval/MATH_v2'}\n",
      "col = 'extra_info', row[col] = {'index': 2, 'raw_problem': 'Find the largest possible real part of \\\\[(75+117i)z+\\\\frac{96+144i}{z}\\\\]where $z$ is a complex number with $|z|=4$.', 'split': None}\n"
     ]
    }
   ],
   "source": [
    "import pandas as pd\n",
    "\n",
    "df_parquet = pd.read_parquet(TEST_FILE)\n",
    "print(f'{df_parquet.shape=} {df_parquet.columns=}')\n",
    "for i, row in df_parquet.iterrows():\n",
    "    for col in df_parquet.columns:\n",
    "        print(f'{col = }, {row[col] = }')\n",
    "    break\n"
   ]
  },
  {
   "cell_type": "code",
   "execution_count": 10,
   "id": "dbf8ef18",
   "metadata": {},
   "outputs": [
    {
     "name": "stdout",
     "output_type": "stream",
     "text": [
      "df_parquet.shape=(1791700, 5) df_parquet.columns=Index(['data_source', 'prompt', 'ability', 'reward_model', 'extra_info'], dtype='object')\n",
      "col = 'data_source', row[col] = 'math_dapo'\n",
      "col = 'prompt', row[col] = array([{'content': 'Solve the following math problem step by step. The last line of your response should be of the form Answer: $Answer (without quotes) where $Answer is the answer to the problem.\\n\\nIn triangle $ABC$, $\\\\sin \\\\angle A = \\\\frac{4}{5}$ and $\\\\angle A < 90^\\\\circ$. Let $D$ be a point outside triangle $ABC$ such that $\\\\angle BAD = \\\\angle DAC$ and $\\\\angle BDC = 90^\\\\circ$. Suppose that $AD = 1$ and that $\\\\frac{BD}{CD} = \\\\frac{3}{2}$. If $AB + AC$ can be expressed in the form $\\\\frac{a\\\\sqrt{b}}{c}$ where $a, b, c$ are pairwise relatively prime integers, find $a + b + c$.\\n\\nRemember to put your answer on its own line after \"Answer:\".', 'role': 'user'}],\n",
      "      dtype=object)\n",
      "col = 'ability', row[col] = 'MATH'\n",
      "col = 'reward_model', row[col] = {'ground_truth': '34', 'style': 'rule-lighteval/MATH_v2'}\n",
      "col = 'extra_info', row[col] = {'index': '9a9b6eb4-a1cb-49d1-8c1e-62eaf2f74079'}\n"
     ]
    }
   ],
   "source": [
    "import pandas as pd\n",
    "\n",
    "df_parquet = pd.read_parquet(TRAIN_FILE)\n",
    "print(f'{df_parquet.shape=} {df_parquet.columns=}')\n",
    "for i, row in df_parquet.iterrows():\n",
    "    for col in df_parquet.columns:\n",
    "        print(f'{col = }, {row[col] = }')\n",
    "    break"
   ]
  },
  {
   "cell_type": "code",
   "execution_count": 3,
   "id": "b32fd451",
   "metadata": {},
   "outputs": [
    {
     "name": "stderr",
     "output_type": "stream",
     "text": [
      "\u001b[32m2025-06-08 15:35:37.141\u001b[0m | \u001b[1mINFO    \u001b[0m | \u001b[36m__main__\u001b[0m:\u001b[36m<module>\u001b[0m:\u001b[36m6\u001b[0m - \u001b[1mLoading dataset from /data/corpus/verl/data/dapo-math-17k.parquet\u001b[0m\n",
      "\u001b[32m2025-06-08 15:35:38.156\u001b[0m | \u001b[1mINFO    \u001b[0m | \u001b[36m__main__\u001b[0m:\u001b[36m<module>\u001b[0m:\u001b[36m14\u001b[0m - \u001b[1mtype(item) = <class 'dict'>, item = {'data_source': 'math_dapo', 'prompt': [{'content': 'Solve the following math problem step by step. The last line of your response should be of the form Answer: $Answer (without quotes) where $Answer is the answer to the problem.\\n\\nIn triangle $ABC$, $\\\\sin \\\\angle A = \\\\frac{4}{5}$ and $\\\\angle A < 90^\\\\circ$. Let $D$ be a point outside triangle $ABC$ such that $\\\\angle BAD = \\\\angle DAC$ and $\\\\angle BDC = 90^\\\\circ$. Suppose that $AD = 1$ and that $\\\\frac{BD}{CD} = \\\\frac{3}{2}$. If $AB + AC$ can be expressed in the form $\\\\frac{a\\\\sqrt{b}}{c}$ where $a, b, c$ are pairwise relatively prime integers, find $a + b + c$.\\n\\nRemember to put your answer on its own line after \"Answer:\".', 'role': 'user'}], 'ability': 'MATH', 'reward_model': {'ground_truth': '34', 'style': 'rule-lighteval/MATH_v2'}, 'extra_info': {'index': '9a9b6eb4-a1cb-49d1-8c1e-62eaf2f74079'}}\u001b[0m\n",
      "\u001b[32m2025-06-08 15:35:38.157\u001b[0m | \u001b[1mINFO    \u001b[0m | \u001b[36m__main__\u001b[0m:\u001b[36m<module>\u001b[0m:\u001b[36m16\u001b[0m - \u001b[1mDataset loaded successfully from DatasetDict({\n",
      "    train: Dataset({\n",
      "        features: ['data_source', 'prompt', 'ability', 'reward_model', 'extra_info'],\n",
      "        num_rows: 1791700\n",
      "    })\n",
      "})\u001b[0m\n",
      "\u001b[32m2025-06-08 15:35:38.157\u001b[0m | \u001b[1mINFO    \u001b[0m | \u001b[36m__main__\u001b[0m:\u001b[36m<module>\u001b[0m:\u001b[36m6\u001b[0m - \u001b[1mLoading dataset from /data/corpus/verl/data/aime-2024.parquet\u001b[0m\n",
      "\u001b[32m2025-06-08 15:35:38.437\u001b[0m | \u001b[1mINFO    \u001b[0m | \u001b[36m__main__\u001b[0m:\u001b[36m<module>\u001b[0m:\u001b[36m14\u001b[0m - \u001b[1mtype(item) = <class 'dict'>, item = {'data_source': 'math_dapo', 'prompt': [{'content': 'Solve the following math problem step by step. The last line of your response should be of the form Answer: $Answer (without quotes) where $Answer is the answer to the problem.\\n\\nFind the largest possible real part of \\\\[(75+117i)z+\\\\frac{96+144i}{z}\\\\]where $z$ is a complex number with $|z|=4$.\\n\\nRemember to put your answer on its own line after \"Answer:\".', 'role': 'user'}], 'ability': 'MATH', 'reward_model': {'ground_truth': '540', 'style': 'rule-lighteval/MATH_v2'}, 'extra_info': {'index': 2, 'raw_problem': 'Find the largest possible real part of \\\\[(75+117i)z+\\\\frac{96+144i}{z}\\\\]where $z$ is a complex number with $|z|=4$.', 'split': None}, '__index_level_0__': 7}\u001b[0m\n",
      "\u001b[32m2025-06-08 15:35:38.439\u001b[0m | \u001b[1mINFO    \u001b[0m | \u001b[36m__main__\u001b[0m:\u001b[36m<module>\u001b[0m:\u001b[36m16\u001b[0m - \u001b[1mDataset loaded successfully from DatasetDict({\n",
      "    train: Dataset({\n",
      "        features: ['data_source', 'prompt', 'ability', 'reward_model', 'extra_info', '__index_level_0__'],\n",
      "        num_rows: 960\n",
      "    })\n",
      "})\u001b[0m\n"
     ]
    }
   ],
   "source": [
    "import datasets\n",
    "\n",
    "for parquet_file in [TRAIN_FILE, TEST_FILE]:\n",
    "    if not os.path.exists(parquet_file):\n",
    "        raise FileNotFoundError(f\"Parquet file {parquet_file} does not exist.\")\n",
    "    logger.info(f\"Loading dataset from {parquet_file}\")\n",
    "    # Load the dataset using the datasets library\n",
    "    if not parquet_file.endswith('.parquet'):\n",
    "        raise ValueError(f\"File {parquet_file} is not a valid Parquet file.\")\n",
    "    # Load the dataset\n",
    "    try:\n",
    "        ds = datasets.load_dataset(\"parquet\", data_files=parquet_file)\n",
    "        for item in ds['train']:\n",
    "            logger.info(f'{type(item) = }, {item = }')\n",
    "            break\n",
    "        logger.info(f\"Dataset loaded successfully from {ds}\")\n",
    "    except Exception as e:\n",
    "        logger.error(f\"Failed to load dataset from {parquet_file}: {e}\")\n",
    "        sys.exit(1)"
   ]
  }
 ],
 "metadata": {
  "kernelspec": {
   "display_name": "verl3",
   "language": "python",
   "name": "python3"
  },
  "language_info": {
   "codemirror_mode": {
    "name": "ipython",
    "version": 3
   },
   "file_extension": ".py",
   "mimetype": "text/x-python",
   "name": "python",
   "nbconvert_exporter": "python",
   "pygments_lexer": "ipython3",
   "version": "3.10.16"
  }
 },
 "nbformat": 4,
 "nbformat_minor": 5
}
