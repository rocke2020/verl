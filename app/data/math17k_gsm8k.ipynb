{
 "cells": [
  {
   "cell_type": "code",
   "execution_count": 3,
   "id": "aa56eaee",
   "metadata": {},
   "outputs": [
    {
     "name": "stdout",
     "output_type": "stream",
     "text": [
      "<class 'dict'> {'data_source': 'math_dapo', 'prompt': [{'content': 'Solve the following math problem step by step. The last line of your response should be of the form Answer: $Answer (without quotes) where $Answer is the answer to the problem.\\n\\nIn triangle $ABC$, $\\\\sin \\\\angle A = \\\\frac{4}{5}$ and $\\\\angle A < 90^\\\\circ$. Let $D$ be a point outside triangle $ABC$ such that $\\\\angle BAD = \\\\angle DAC$ and $\\\\angle BDC = 90^\\\\circ$. Suppose that $AD = 1$ and that $\\\\frac{BD}{CD} = \\\\frac{3}{2}$. If $AB + AC$ can be expressed in the form $\\\\frac{a\\\\sqrt{b}}{c}$ where $a, b, c$ are pairwise relatively prime integers, find $a + b + c$.\\n\\nRemember to put your answer on its own line after \"Answer:\".', 'role': 'user'}], 'ability': 'MATH', 'reward_model': {'ground_truth': '34', 'style': 'rule-lighteval/MATH_v2'}, 'extra_info': {'index': '9a9b6eb4-a1cb-49d1-8c1e-62eaf2f74079'}}\n"
     ]
    }
   ],
   "source": [
    "import json\n",
    "import math\n",
    "import os\n",
    "import random\n",
    "import re\n",
    "import shutil\n",
    "import sys\n",
    "import time\n",
    "from collections import defaultdict\n",
    "from pathlib import Path\n",
    "from datetime import datetime\n",
    "import datasets\n",
    "from loguru import logger\n",
    "\n",
    "\n",
    "def main():\n",
    "    logger.info('end')\n",
    "\n",
    "\n",
    "RAY_DATA_HOME='/data/corpus/verl'\n",
    "TRAIN_FILE=f\"{RAY_DATA_HOME}/data/dapo-math-17k.parquet\"\n",
    "dataframe = datasets.load_dataset(\"parquet\", data_files=TRAIN_FILE)[\"train\"]\n",
    "item = next(iter(dataframe))\n",
    "print(type(item), item)"
   ]
  },
  {
   "cell_type": "code",
   "execution_count": 7,
   "id": "8b8f6d58",
   "metadata": {},
   "outputs": [
    {
     "name": "stdout",
     "output_type": "stream",
     "text": [
      "<class 'datasets.arrow_dataset.Dataset'> Dataset({\n",
      "    features: ['data_source', 'prompt', 'ability', 'reward_model', 'extra_info'],\n",
      "    num_rows: 1319\n",
      "})\n",
      "<class 'dict'> {'data_source': 'openai/gsm8k', 'prompt': [{'content': 'Janet’s ducks lay 16 eggs per day. She eats three for breakfast every morning and bakes muffins for her friends every day with four. She sells the remainder at the farmers\\' market daily for $2 per fresh duck egg. How much in dollars does she make every day at the farmers\\' market? Let\\'s think step by step and output the final answer after \"####\".', 'role': 'user'}], 'ability': 'math', 'reward_model': {'ground_truth': '18', 'style': 'rule'}, 'extra_info': {'answer': 'Janet sells 16 - 3 - 4 = <<16-3-4=9>>9 duck eggs a day.\\nShe makes 9 * 2 = $<<9*2=18>>18 every day at the farmer’s market.\\n#### 18', 'index': 0, 'question': \"Janet’s ducks lay 16 eggs per day. She eats three for breakfast every morning and bakes muffins for her friends every day with four. She sells the remainder at the farmers' market daily for $2 per fresh duck egg. How much in dollars does she make every day at the farmers' market?\", 'split': 'test'}}\n",
      "<class 'datasets.arrow_dataset.Dataset'> Dataset({\n",
      "    features: ['data_source', 'prompt', 'ability', 'reward_model', 'extra_info'],\n",
      "    num_rows: 7473\n",
      "})\n",
      "<class 'dict'> {'data_source': 'openai/gsm8k', 'prompt': [{'content': 'Natalia sold clips to 48 of her friends in April, and then she sold half as many clips in May. How many clips did Natalia sell altogether in April and May? Let\\'s think step by step and output the final answer after \"####\".', 'role': 'user'}], 'ability': 'math', 'reward_model': {'ground_truth': '72', 'style': 'rule'}, 'extra_info': {'answer': 'Natalia sold 48/2 = <<48/2=24>>24 clips in May.\\nNatalia sold 48+24 = <<48+24=72>>72 clips altogether in April and May.\\n#### 72', 'index': 0, 'question': 'Natalia sold clips to 48 of her friends in April, and then she sold half as many clips in May. How many clips did Natalia sell altogether in April and May?', 'split': 'train'}}\n"
     ]
    }
   ],
   "source": [
    "RAY_DATA_HOME='/data/corpus/openai/gsm8k'\n",
    "TEST_FILE=f\"{RAY_DATA_HOME}/test.parquet\"\n",
    "dataframe = datasets.load_dataset(\"parquet\", data_files=TEST_FILE)[\"train\"]\n",
    "print(type(dataframe), dataframe)\n",
    "item = next(iter(dataframe))\n",
    "print(type(item), item)\n",
    "\n",
    "TRAIN_FILE=f\"{RAY_DATA_HOME}/train.parquet\"\n",
    "dataframe = datasets.load_dataset(\"parquet\", data_files=TRAIN_FILE)[\"train\"]\n",
    "print(type(dataframe), dataframe)\n",
    "item = next(iter(dataframe))\n",
    "print(type(item), item)"
   ]
  }
 ],
 "metadata": {
  "kernelspec": {
   "display_name": "v4",
   "language": "python",
   "name": "python3"
  },
  "language_info": {
   "codemirror_mode": {
    "name": "ipython",
    "version": 3
   },
   "file_extension": ".py",
   "mimetype": "text/x-python",
   "name": "python",
   "nbconvert_exporter": "python",
   "pygments_lexer": "ipython3",
   "version": "3.10.18"
  }
 },
 "nbformat": 4,
 "nbformat_minor": 5
}
